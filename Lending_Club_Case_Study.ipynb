{
 "cells": [
  {
   "cell_type": "code",
   "execution_count": 124,
   "id": "6c78afc1",
   "metadata": {},
   "outputs": [],
   "source": [
    "# import required libraries\n",
    "import pandas as pd\n",
    "import numpy as np\n",
    "import warnings\n",
    "warnings.filterwarnings('ignore')"
   ]
  },
  {
   "cell_type": "code",
   "execution_count": 5,
   "id": "318d01de",
   "metadata": {},
   "outputs": [],
   "source": [
    "# load the csv into a dataframe\n",
    "lending_df = pd.read_csv('loan.csv')"
   ]
  },
  {
   "cell_type": "code",
   "execution_count": 8,
   "id": "a7e6d810",
   "metadata": {},
   "outputs": [
    {
     "data": {
      "text/plain": [
       "(39717, 111)"
      ]
     },
     "execution_count": 8,
     "metadata": {},
     "output_type": "execute_result"
    }
   ],
   "source": [
    "# check the shape of the dataframe\n",
    "lending_df.shape"
   ]
  },
  {
   "cell_type": "code",
   "execution_count": 12,
   "id": "b34851e2",
   "metadata": {},
   "outputs": [
    {
     "name": "stdout",
     "output_type": "stream",
     "text": [
      "<class 'pandas.core.frame.DataFrame'>\n",
      "RangeIndex: 39717 entries, 0 to 39716\n",
      "Columns: 111 entries, id to total_il_high_credit_limit\n",
      "dtypes: float64(74), int64(13), object(24)\n",
      "memory usage: 33.6+ MB\n"
     ]
    }
   ],
   "source": [
    "# display information about the dataframe\n",
    "lending_df.info()"
   ]
  },
  {
   "cell_type": "code",
   "execution_count": 44,
   "id": "d75450db",
   "metadata": {},
   "outputs": [
    {
     "data": {
      "text/plain": [
       "[('emp_title', 2459),\n",
       " ('emp_length', 1075),\n",
       " ('desc', 12940),\n",
       " ('title', 11),\n",
       " ('mths_since_last_delinq', 25682),\n",
       " ('mths_since_last_record', 36931),\n",
       " ('revol_util', 50),\n",
       " ('last_pymnt_d', 71),\n",
       " ('next_pymnt_d', 38577),\n",
       " ('last_credit_pull_d', 2),\n",
       " ('collections_12_mths_ex_med', 56),\n",
       " ('mths_since_last_major_derog', 39717),\n",
       " ('annual_inc_joint', 39717),\n",
       " ('dti_joint', 39717),\n",
       " ('verification_status_joint', 39717),\n",
       " ('tot_coll_amt', 39717),\n",
       " ('tot_cur_bal', 39717),\n",
       " ('open_acc_6m', 39717),\n",
       " ('open_il_6m', 39717),\n",
       " ('open_il_12m', 39717),\n",
       " ('open_il_24m', 39717),\n",
       " ('mths_since_rcnt_il', 39717),\n",
       " ('total_bal_il', 39717),\n",
       " ('il_util', 39717),\n",
       " ('open_rv_12m', 39717),\n",
       " ('open_rv_24m', 39717),\n",
       " ('max_bal_bc', 39717),\n",
       " ('all_util', 39717),\n",
       " ('total_rev_hi_lim', 39717),\n",
       " ('inq_fi', 39717),\n",
       " ('total_cu_tl', 39717),\n",
       " ('inq_last_12m', 39717),\n",
       " ('acc_open_past_24mths', 39717),\n",
       " ('avg_cur_bal', 39717),\n",
       " ('bc_open_to_buy', 39717),\n",
       " ('bc_util', 39717),\n",
       " ('chargeoff_within_12_mths', 56),\n",
       " ('mo_sin_old_il_acct', 39717),\n",
       " ('mo_sin_old_rev_tl_op', 39717),\n",
       " ('mo_sin_rcnt_rev_tl_op', 39717),\n",
       " ('mo_sin_rcnt_tl', 39717),\n",
       " ('mort_acc', 39717),\n",
       " ('mths_since_recent_bc', 39717),\n",
       " ('mths_since_recent_bc_dlq', 39717),\n",
       " ('mths_since_recent_inq', 39717),\n",
       " ('mths_since_recent_revol_delinq', 39717),\n",
       " ('num_accts_ever_120_pd', 39717),\n",
       " ('num_actv_bc_tl', 39717),\n",
       " ('num_actv_rev_tl', 39717),\n",
       " ('num_bc_sats', 39717),\n",
       " ('num_bc_tl', 39717),\n",
       " ('num_il_tl', 39717),\n",
       " ('num_op_rev_tl', 39717),\n",
       " ('num_rev_accts', 39717),\n",
       " ('num_rev_tl_bal_gt_0', 39717),\n",
       " ('num_sats', 39717),\n",
       " ('num_tl_120dpd_2m', 39717),\n",
       " ('num_tl_30dpd', 39717),\n",
       " ('num_tl_90g_dpd_24m', 39717),\n",
       " ('num_tl_op_past_12m', 39717),\n",
       " ('pct_tl_nvr_dlq', 39717),\n",
       " ('percent_bc_gt_75', 39717),\n",
       " ('pub_rec_bankruptcies', 697),\n",
       " ('tax_liens', 39),\n",
       " ('tot_hi_cred_lim', 39717),\n",
       " ('total_bal_ex_mort', 39717),\n",
       " ('total_bc_limit', 39717),\n",
       " ('total_il_high_credit_limit', 39717)]"
      ]
     },
     "execution_count": 44,
     "metadata": {},
     "output_type": "execute_result"
    }
   ],
   "source": [
    "# let's see which columns have null values and how much\n",
    "null_columns = lending_df.isnull().sum()[lending_df.isnull().sum() > 0]\n",
    "list(zip(null_columns.index, null_columns))"
   ]
  },
  {
   "cell_type": "code",
   "execution_count": 45,
   "id": "234bdb6c",
   "metadata": {},
   "outputs": [],
   "source": [
    "# remove all columns that doesn't have any data at all\n",
    "lending_df = lending_df.dropna(axis=1, how='all')"
   ]
  },
  {
   "cell_type": "code",
   "execution_count": 46,
   "id": "bb0e1dcf",
   "metadata": {},
   "outputs": [
    {
     "data": {
      "text/plain": [
       "[('emp_title', 2459),\n",
       " ('emp_length', 1075),\n",
       " ('desc', 12940),\n",
       " ('title', 11),\n",
       " ('mths_since_last_delinq', 25682),\n",
       " ('mths_since_last_record', 36931),\n",
       " ('revol_util', 50),\n",
       " ('last_pymnt_d', 71),\n",
       " ('next_pymnt_d', 38577),\n",
       " ('last_credit_pull_d', 2),\n",
       " ('collections_12_mths_ex_med', 56),\n",
       " ('chargeoff_within_12_mths', 56),\n",
       " ('pub_rec_bankruptcies', 697),\n",
       " ('tax_liens', 39)]"
      ]
     },
     "execution_count": 46,
     "metadata": {},
     "output_type": "execute_result"
    }
   ],
   "source": [
    "# check the dataframe again for null values\n",
    "null_columns = lending_df.isnull().sum()[lending_df.isnull().sum() > 0]\n",
    "list(zip(null_columns.index, null_columns))"
   ]
  },
  {
   "cell_type": "code",
   "execution_count": 50,
   "id": "9cf987e3",
   "metadata": {},
   "outputs": [
    {
     "data": {
      "text/plain": [
       "(39717, 53)"
      ]
     },
     "execution_count": 50,
     "metadata": {},
     "output_type": "execute_result"
    }
   ],
   "source": [
    "# drop few other columns that have significant missing values or are irrelevant\n",
    "columns_to_drop = ['next_pymnt_d', 'mths_since_last_record', 'mths_since_last_delinq', 'desc']\n",
    "lending_df.drop(columns = columns_to_drop, inplace=True)\n",
    "lending_df.shape"
   ]
  },
  {
   "cell_type": "code",
   "execution_count": 51,
   "id": "7faf30c5",
   "metadata": {},
   "outputs": [
    {
     "data": {
      "text/plain": [
       "[('emp_title', 2459),\n",
       " ('emp_length', 1075),\n",
       " ('title', 11),\n",
       " ('revol_util', 50),\n",
       " ('last_pymnt_d', 71),\n",
       " ('last_credit_pull_d', 2),\n",
       " ('collections_12_mths_ex_med', 56),\n",
       " ('chargeoff_within_12_mths', 56),\n",
       " ('pub_rec_bankruptcies', 697),\n",
       " ('tax_liens', 39)]"
      ]
     },
     "execution_count": 51,
     "metadata": {},
     "output_type": "execute_result"
    }
   ],
   "source": [
    "# check the dataframe again for null values\n",
    "null_columns = lending_df.isnull().sum()[lending_df.isnull().sum() > 0]\n",
    "list(zip(null_columns.index, null_columns))"
   ]
  },
  {
   "cell_type": "code",
   "execution_count": 87,
   "id": "32b5c3e6",
   "metadata": {},
   "outputs": [
    {
     "name": "stdout",
     "output_type": "stream",
     "text": [
      "28821\n",
      "US Army                   134\n",
      "Bank of America           109\n",
      "IBM                        66\n",
      "AT&T                       59\n",
      "Kaiser Permanente          56\n",
      "                         ... \n",
      "Capco                       1\n",
      "wny urology associates      1\n",
      "BENCHMARK GOLD              1\n",
      "Wallstreet Systems          1\n",
      "Great Hearts Academies      1\n",
      "Name: emp_title, Length: 28820, dtype: int64\n"
     ]
    }
   ],
   "source": [
    "# inspect employee title\n",
    "# number of employers / employee title\n",
    "print(len(lending_df['emp_title'].unique()))\n",
    "\n",
    "# count of employee titles\n",
    "print(lending_df['emp_title'].value_counts())"
   ]
  },
  {
   "cell_type": "code",
   "execution_count": 89,
   "id": "176c5117",
   "metadata": {},
   "outputs": [],
   "source": [
    "# remove employee title column as it has lot of missing values and doesn't think it would impact the analysis as much considering there are\n",
    "# 28K unique employee titles and the individual counts are not that high\n",
    "lending_df.drop(columns=['emp_title'], inplace=True)"
   ]
  },
  {
   "cell_type": "code",
   "execution_count": 91,
   "id": "183853c6",
   "metadata": {},
   "outputs": [
    {
     "data": {
      "text/plain": [
       "10+ years    8879\n",
       "< 1 year     4583\n",
       "2 years      4388\n",
       "3 years      4095\n",
       "4 years      3436\n",
       "5 years      3282\n",
       "1 year       3240\n",
       "6 years      2229\n",
       "7 years      1773\n",
       "8 years      1479\n",
       "9 years      1258\n",
       "Name: emp_length, dtype: int64"
      ]
     },
     "execution_count": 91,
     "metadata": {},
     "output_type": "execute_result"
    }
   ],
   "source": [
    "# we have emp_length with 1000 plus missing values. First clean employee length before taking a call on what to do\n",
    "lending_df['emp_length'].value_counts()"
   ]
  },
  {
   "cell_type": "code",
   "execution_count": 101,
   "id": "c55deb44",
   "metadata": {},
   "outputs": [],
   "source": [
    "# Just get the numericals from the emp_length data (less than 1 is considered one and above 10 is considered 10)\n",
    "lending_df['emp_length'] = lending_df['emp_length'].apply(lambda x: str(x).replace('years', '').replace('year', '').replace('<','').replace('+',''))"
   ]
  },
  {
   "cell_type": "code",
   "execution_count": 123,
   "id": "fb156930",
   "metadata": {},
   "outputs": [
    {
     "data": {
      "text/plain": [
       "10    8879\n",
       "1     7823\n",
       "2     4388\n",
       "3     4095\n",
       "4     3436\n",
       "5     3282\n",
       "6     2229\n",
       "7     1773\n",
       "8     1479\n",
       "9     1258\n",
       "Name: emp_length, dtype: int64"
      ]
     },
     "execution_count": 123,
     "metadata": {},
     "output_type": "execute_result"
    }
   ],
   "source": [
    "# analyse the values and it's distribution\n",
    "lending_df['emp_length'][lending_df['emp_length'] != 'nan'].apply(lambda x: int(x)).value_counts()"
   ]
  },
  {
   "cell_type": "code",
   "execution_count": 156,
   "id": "431ed589",
   "metadata": {},
   "outputs": [],
   "source": [
    "# Try to impute values for employee length based on the distribution so that it doesn't skew the analysis\n",
    "# set 'nan' string to actual nulls\n",
    "lending_df['emp_length'] = lending_df['emp_length'].replace('nan', np.nan)\n",
    "\n",
    "# get distribution of non null values\n",
    "dbn = lending_df['emp_length'].dropna().apply(lambda x: int(x)).value_counts(normalize=True)\n",
    "\n",
    "#missing values\n",
    "mval = lending_df['emp_length'].isnull()\n",
    "num_mval = mval.sum()\n",
    "\n",
    "# values to impute\n",
    "impute_val = np.random.choice(dbn.index, num_mval, p=dbn.values)\n",
    "\n",
    "# finally fill nan with\n",
    "lending_df.loc[mval, 'emp_length'] = impute_val"
   ]
  },
  {
   "cell_type": "code",
   "execution_count": 158,
   "id": "7ca02ac2",
   "metadata": {},
   "outputs": [],
   "source": [
    "# convert everything to integer\n",
    "lending_df['emp_length'] = lending_df['emp_length'].apply(lambda x: int(x))"
   ]
  },
  {
   "cell_type": "code",
   "execution_count": 159,
   "id": "6593ecd0",
   "metadata": {},
   "outputs": [
    {
     "data": {
      "text/plain": [
       "10    9124\n",
       "1     8024\n",
       "2     4523\n",
       "3     4197\n",
       "4     3539\n",
       "5     3370\n",
       "6     2292\n",
       "7     1836\n",
       "8     1523\n",
       "9     1289\n",
       "Name: emp_length, dtype: int64"
      ]
     },
     "execution_count": 159,
     "metadata": {},
     "output_type": "execute_result"
    }
   ],
   "source": [
    "# check again\n",
    "lending_df['emp_length'].value_counts()"
   ]
  },
  {
   "cell_type": "code",
   "execution_count": 161,
   "id": "f540c387",
   "metadata": {},
   "outputs": [
    {
     "data": {
      "text/plain": [
       "[('title', 11),\n",
       " ('revol_util', 50),\n",
       " ('last_pymnt_d', 71),\n",
       " ('last_credit_pull_d', 2),\n",
       " ('collections_12_mths_ex_med', 56),\n",
       " ('chargeoff_within_12_mths', 56),\n",
       " ('pub_rec_bankruptcies', 697),\n",
       " ('tax_liens', 39)]"
      ]
     },
     "execution_count": 161,
     "metadata": {},
     "output_type": "execute_result"
    }
   ],
   "source": [
    "# check dataframe again for null values\n",
    "null_columns = lending_df.isnull().sum()[lending_df.isnull().sum() > 0]\n",
    "list(zip(null_columns.index, null_columns))"
   ]
  },
  {
   "cell_type": "code",
   "execution_count": 162,
   "id": "f4efb288",
   "metadata": {},
   "outputs": [],
   "source": [
    "# 'pub_rec_bankruptcies' is a significant field in the analysis as this shows how many times a person filed for bankruptcies, hence removing records without this value\n",
    "lending_df = lending_df.dropna(subset=['pub_rec_bankruptcies'])"
   ]
  },
  {
   "cell_type": "code",
   "execution_count": 163,
   "id": "c8c73973",
   "metadata": {},
   "outputs": [
    {
     "data": {
      "text/plain": [
       "[('title', 11),\n",
       " ('revol_util', 50),\n",
       " ('last_pymnt_d', 71),\n",
       " ('last_credit_pull_d', 1),\n",
       " ('collections_12_mths_ex_med', 2),\n",
       " ('chargeoff_within_12_mths', 2)]"
      ]
     },
     "execution_count": 163,
     "metadata": {},
     "output_type": "execute_result"
    }
   ],
   "source": [
    "# check dataframe again for null values\n",
    "null_columns = lending_df.isnull().sum()[lending_df.isnull().sum() > 0]\n",
    "list(zip(null_columns.index, null_columns))"
   ]
  },
  {
   "cell_type": "code",
   "execution_count": 167,
   "id": "0eef9fee",
   "metadata": {},
   "outputs": [],
   "source": [
    "\"\"\"\n",
    " 'revol_util or revolving line utilization rate'\n",
    " 'collections in the last 12 months'\n",
    " 'chargeoff within last 12 months\n",
    " \n",
    " are all important fileds removing records with nulls in them\n",
    "\"\"\"\n",
    "lending_df = lending_df.dropna(subset=['revol_util','chargeoff_within_12_mths','collections_12_mths_ex_med' ])"
   ]
  },
  {
   "cell_type": "code",
   "execution_count": 168,
   "id": "0dd431c6",
   "metadata": {},
   "outputs": [
    {
     "data": {
      "text/plain": [
       "[('title', 11), ('last_pymnt_d', 67), ('last_credit_pull_d', 1)]"
      ]
     },
     "execution_count": 168,
     "metadata": {},
     "output_type": "execute_result"
    }
   ],
   "source": [
    "# check dataframe again for null values\n",
    "null_columns = lending_df.isnull().sum()[lending_df.isnull().sum() > 0]\n",
    "list(zip(null_columns.index, null_columns))"
   ]
  },
  {
   "cell_type": "code",
   "execution_count": 174,
   "id": "eeb6b8a3",
   "metadata": {},
   "outputs": [],
   "source": [
    "# will keep the rest of the data as is"
   ]
  },
  {
   "cell_type": "code",
   "execution_count": null,
   "id": "84152f2d",
   "metadata": {},
   "outputs": [],
   "source": []
  }
 ],
 "metadata": {
  "kernelspec": {
   "display_name": "Python 3",
   "language": "python",
   "name": "python3"
  },
  "language_info": {
   "codemirror_mode": {
    "name": "ipython",
    "version": 3
   },
   "file_extension": ".py",
   "mimetype": "text/x-python",
   "name": "python",
   "nbconvert_exporter": "python",
   "pygments_lexer": "ipython3",
   "version": "3.8.8"
  }
 },
 "nbformat": 4,
 "nbformat_minor": 5
}
